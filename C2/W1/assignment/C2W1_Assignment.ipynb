{
 "cells": [
  {
   "cell_type": "markdown",
   "id": "fc59dbb8",
   "metadata": {
    "id": "AuW-xg_bTsaF"
   },
   "source": [
    "# Week 1: Using CNN's with the Cats vs Dogs Dataset\n",
    "\n",
    "Welcome to the 1st assignment of the course! This week, you will be using the famous `Cats vs Dogs` dataset to train a model that can classify images of dogs from images of cats. For this, you will create your own Convolutional Neural Network in Tensorflow and leverage Keras' image preprocessing utilities.\n",
    "\n",
    "You will also create some helper functions to move the images around the filesystem so if you are not familiar with the `os` module be sure to take a look a the [docs](https://docs.python.org/3/library/os.html).\n",
    "\n",
    "Let's get started!"
   ]
  },
  {
   "cell_type": "markdown",
   "id": "84dcabb6",
   "metadata": {},
   "source": [
    "_**NOTE:** To prevent errors from the autograder, pleave avoid editing or deleting non-graded cells in this notebook . Please only put your solutions in between the `### START CODE HERE` and `### END CODE HERE` code comments, and refrain from adding any new cells._"
   ]
  },
  {
   "cell_type": "code",
   "execution_count": 3,
   "id": "b0179aa5",
   "metadata": {
    "id": "dn-6c02VmqiN",
    "tags": [
     "graded"
    ],
    "ExecuteTime": {
     "end_time": "2023-07-14T15:13:42.904140600Z",
     "start_time": "2023-07-14T15:13:42.902822600Z"
    }
   },
   "outputs": [],
   "source": [
    "# grader-required-cell\n",
    "\n",
    "import os\n",
    "import zipfile\n",
    "import random\n",
    "import shutil\n",
    "\n",
    "import keras.utils\n",
    "import numpy\n",
    "import tensorflow as tf\n",
    "from tensorflow.keras.preprocessing.image import ImageDataGenerator\n",
    "from shutil import copyfile\n",
    "import matplotlib.pyplot as plt"
   ]
  },
  {
   "cell_type": "code",
   "execution_count": 4,
   "outputs": [
    {
     "name": "stdout",
     "output_type": "stream",
     "text": [
      "Requirement already satisfied: kaggle in c:\\a\\tf\\tensorflow-1-public\\venv\\lib\\site-packages (1.5.15)\n",
      "Requirement already satisfied: six>=1.10 in c:\\a\\tf\\tensorflow-1-public\\venv\\lib\\site-packages (from kaggle) (1.16.0)\n",
      "Requirement already satisfied: certifi in c:\\a\\tf\\tensorflow-1-public\\venv\\lib\\site-packages (from kaggle) (2023.5.7)\n",
      "Requirement already satisfied: python-dateutil in c:\\a\\tf\\tensorflow-1-public\\venv\\lib\\site-packages (from kaggle) (2.8.2)\n",
      "Requirement already satisfied: requests in c:\\a\\tf\\tensorflow-1-public\\venv\\lib\\site-packages (from kaggle) (2.31.0)\n",
      "Requirement already satisfied: tqdm in c:\\a\\tf\\tensorflow-1-public\\venv\\lib\\site-packages (from kaggle) (4.65.0)\n",
      "Requirement already satisfied: python-slugify in c:\\a\\tf\\tensorflow-1-public\\venv\\lib\\site-packages (from kaggle) (8.0.1)\n",
      "Requirement already satisfied: urllib3 in c:\\a\\tf\\tensorflow-1-public\\venv\\lib\\site-packages (from kaggle) (1.26.16)\n",
      "Requirement already satisfied: bleach in c:\\a\\tf\\tensorflow-1-public\\venv\\lib\\site-packages (from kaggle) (6.0.0)\n",
      "Requirement already satisfied: webencodings in c:\\a\\tf\\tensorflow-1-public\\venv\\lib\\site-packages (from bleach->kaggle) (0.5.1)\n",
      "Requirement already satisfied: text-unidecode>=1.3 in c:\\a\\tf\\tensorflow-1-public\\venv\\lib\\site-packages (from python-slugify->kaggle) (1.3)\n",
      "Requirement already satisfied: charset-normalizer<4,>=2 in c:\\a\\tf\\tensorflow-1-public\\venv\\lib\\site-packages (from requests->kaggle) (3.2.0)\n",
      "Requirement already satisfied: idna<4,>=2.5 in c:\\a\\tf\\tensorflow-1-public\\venv\\lib\\site-packages (from requests->kaggle) (3.4)\n",
      "Requirement already satisfied: colorama in c:\\a\\tf\\tensorflow-1-public\\venv\\lib\\site-packages (from tqdm->kaggle) (0.4.6)\n"
     ]
    },
    {
     "name": "stderr",
     "output_type": "stream",
     "text": [
      "\n",
      "[notice] A new release of pip available: 22.3.1 -> 23.1.2\n",
      "[notice] To update, run: python.exe -m pip install --upgrade pip\n"
     ]
    }
   ],
   "source": [
    "!pip install kaggle"
   ],
   "metadata": {
    "collapsed": false,
    "ExecuteTime": {
     "end_time": "2023-07-14T15:13:50.014555Z",
     "start_time": "2023-07-14T15:13:46.394101100Z"
    }
   }
  },
  {
   "cell_type": "code",
   "execution_count": 10,
   "outputs": [
    {
     "name": "stdout",
     "output_type": "stream",
     "text": [
      "Downloading dogs-vs-cats.zip to ../../../tmp/kaggle/dogs-vs-cats\n",
      "\n"
     ]
    },
    {
     "name": "stderr",
     "output_type": "stream",
     "text": [
      "\n",
      "  0%|          | 0.00/812M [00:00<?, ?B/s]\n",
      "  0%|          | 1.00M/812M [00:00<08:56, 1.59MB/s]\n",
      "  0%|          | 2.00M/812M [00:00<04:29, 3.15MB/s]\n",
      "  0%|          | 4.00M/812M [00:00<02:06, 6.72MB/s]\n",
      "  1%|          | 8.00M/812M [00:00<00:59, 14.2MB/s]\n",
      "  1%|1         | 11.0M/812M [00:01<00:51, 16.2MB/s]\n",
      "  2%|1         | 15.0M/812M [00:01<00:38, 21.4MB/s]\n",
      "  2%|2         | 19.0M/812M [00:01<00:31, 26.2MB/s]\n",
      "  3%|2         | 23.0M/812M [00:01<00:27, 30.0MB/s]\n",
      "  3%|3         | 27.0M/812M [00:01<00:28, 29.0MB/s]\n",
      "  4%|3         | 31.0M/812M [00:01<00:25, 32.0MB/s]\n",
      "  4%|4         | 35.0M/812M [00:01<00:24, 33.4MB/s]\n",
      "  5%|4         | 39.0M/812M [00:01<00:22, 35.5MB/s]\n",
      "  5%|5         | 43.0M/812M [00:02<00:22, 35.9MB/s]\n",
      "  6%|5         | 47.0M/812M [00:02<00:21, 37.1MB/s]\n",
      "  6%|6         | 51.0M/812M [00:02<00:20, 38.3MB/s]\n",
      "  7%|6         | 55.0M/812M [00:02<00:20, 37.9MB/s]\n",
      "  7%|7         | 59.0M/812M [00:02<00:20, 38.7MB/s]\n",
      "  8%|7         | 63.0M/812M [00:02<00:20, 38.2MB/s]\n",
      "  8%|8         | 67.0M/812M [00:02<00:20, 37.9MB/s]\n",
      "  9%|8         | 71.0M/812M [00:02<00:21, 35.6MB/s]\n",
      "  9%|9         | 75.0M/812M [00:02<00:21, 36.0MB/s]\n",
      " 10%|9         | 79.0M/812M [00:03<00:20, 37.3MB/s]\n",
      " 10%|#         | 83.0M/812M [00:03<00:20, 37.2MB/s]\n",
      " 11%|#         | 87.0M/812M [00:03<00:19, 38.2MB/s]\n",
      " 11%|#1        | 91.0M/812M [00:03<00:19, 38.8MB/s]\n",
      " 12%|#1        | 95.0M/812M [00:03<00:19, 38.2MB/s]\n",
      " 12%|#2        | 99.0M/812M [00:03<00:19, 39.0MB/s]\n",
      " 13%|#2        | 103M/812M [00:03<00:18, 39.6MB/s] \n",
      " 13%|#3        | 107M/812M [00:03<00:19, 38.8MB/s]\n",
      " 14%|#3        | 111M/812M [00:03<00:19, 38.2MB/s]\n",
      " 14%|#4        | 115M/812M [00:04<00:20, 35.9MB/s]\n",
      " 15%|#4        | 119M/812M [00:04<00:20, 35.9MB/s]\n",
      " 15%|#5        | 124M/812M [00:04<00:18, 38.3MB/s]\n",
      " 16%|#5        | 128M/812M [00:04<00:18, 37.9MB/s]\n",
      " 16%|#6        | 132M/812M [00:04<00:19, 36.6MB/s]\n",
      " 17%|#6        | 136M/812M [00:04<00:28, 24.5MB/s]\n",
      " 17%|#7        | 140M/812M [00:04<00:25, 27.7MB/s]\n",
      " 18%|#7        | 144M/812M [00:05<00:23, 29.9MB/s]\n",
      " 18%|#8        | 148M/812M [00:05<00:21, 32.5MB/s]\n",
      " 19%|#8        | 153M/812M [00:05<00:19, 36.2MB/s]\n",
      " 19%|#9        | 158M/812M [00:05<00:17, 39.1MB/s]\n",
      " 20%|#9        | 162M/812M [00:05<00:17, 38.5MB/s]\n",
      " 20%|##        | 166M/812M [00:05<00:18, 36.2MB/s]\n",
      " 21%|##        | 170M/812M [00:05<00:18, 36.0MB/s]\n",
      " 22%|##1       | 175M/812M [00:05<00:17, 37.6MB/s]\n",
      " 22%|##2       | 179M/812M [00:05<00:17, 38.0MB/s]\n",
      " 23%|##2       | 183M/812M [00:06<00:17, 38.5MB/s]\n",
      " 23%|##3       | 187M/812M [00:06<00:18, 35.6MB/s]\n",
      " 24%|##3       | 192M/812M [00:06<00:16, 38.3MB/s]\n",
      " 24%|##4       | 196M/812M [00:06<00:16, 38.4MB/s]\n",
      " 25%|##4       | 200M/812M [00:06<00:16, 38.6MB/s]\n",
      " 25%|##5       | 204M/812M [00:06<00:16, 38.0MB/s]\n",
      " 26%|##5       | 208M/812M [00:06<00:16, 37.7MB/s]\n",
      " 26%|##6       | 212M/812M [00:06<00:16, 38.3MB/s]\n",
      " 27%|##6       | 216M/812M [00:06<00:16, 38.0MB/s]\n",
      " 27%|##7       | 220M/812M [00:07<00:16, 38.7MB/s]\n",
      " 28%|##7       | 224M/812M [00:07<00:16, 38.3MB/s]\n",
      " 28%|##8       | 228M/812M [00:07<00:16, 37.6MB/s]\n",
      " 29%|##8       | 232M/812M [00:07<00:16, 36.7MB/s]\n",
      " 29%|##9       | 236M/812M [00:07<00:16, 37.5MB/s]\n",
      " 30%|##9       | 241M/812M [00:07<00:16, 36.3MB/s]\n",
      " 30%|###       | 245M/812M [00:07<00:16, 36.6MB/s]\n",
      " 31%|###       | 249M/812M [00:08<00:19, 30.7MB/s]\n",
      " 31%|###1      | 253M/812M [00:08<00:18, 32.3MB/s]\n",
      " 32%|###1      | 257M/812M [00:08<00:18, 31.5MB/s]\n",
      " 32%|###2      | 261M/812M [00:08<00:18, 30.9MB/s]\n",
      " 33%|###2      | 265M/812M [00:08<00:17, 33.1MB/s]\n",
      " 33%|###3      | 269M/812M [00:08<00:16, 35.0MB/s]\n",
      " 34%|###3      | 273M/812M [00:08<00:15, 35.5MB/s]\n",
      " 34%|###4      | 277M/812M [00:08<00:15, 36.8MB/s]\n",
      " 35%|###4      | 281M/812M [00:08<00:15, 36.8MB/s]\n",
      " 35%|###5      | 285M/812M [00:09<00:14, 37.0MB/s]\n",
      " 36%|###5      | 289M/812M [00:09<00:14, 38.1MB/s]\n",
      " 36%|###6      | 293M/812M [00:09<00:14, 37.8MB/s]\n",
      " 37%|###6      | 297M/812M [00:09<00:13, 38.7MB/s]\n",
      " 37%|###7      | 301M/812M [00:09<00:13, 39.2MB/s]\n",
      " 38%|###7      | 305M/812M [00:09<00:13, 38.6MB/s]\n",
      " 38%|###8      | 309M/812M [00:09<00:15, 35.1MB/s]\n",
      " 39%|###8      | 313M/812M [00:09<00:14, 36.6MB/s]\n",
      " 39%|###9      | 317M/812M [00:09<00:13, 37.7MB/s]\n",
      " 40%|###9      | 321M/812M [00:10<00:14, 36.6MB/s]\n",
      " 40%|####      | 325M/812M [00:10<00:13, 37.7MB/s]\n",
      " 41%|####      | 329M/812M [00:10<00:13, 38.5MB/s]\n",
      " 41%|####1     | 333M/812M [00:10<00:13, 38.1MB/s]\n",
      " 41%|####1     | 337M/812M [00:10<00:12, 38.9MB/s]\n",
      " 42%|####1     | 341M/812M [00:10<00:12, 38.4MB/s]\n",
      " 42%|####2     | 345M/812M [00:10<00:12, 39.1MB/s]\n",
      " 43%|####2     | 349M/812M [00:10<00:12, 39.6MB/s]\n",
      " 43%|####3     | 353M/812M [00:10<00:13, 35.7MB/s]\n",
      " 44%|####3     | 357M/812M [00:11<00:13, 35.2MB/s]\n",
      " 45%|####4     | 362M/812M [00:11<00:12, 38.4MB/s]\n",
      " 45%|####5     | 366M/812M [00:11<00:12, 38.0MB/s]\n",
      " 46%|####5     | 370M/812M [00:11<00:11, 38.6MB/s]\n",
      " 46%|####6     | 374M/812M [00:11<00:11, 39.2MB/s]\n",
      " 47%|####6     | 378M/812M [00:11<00:11, 38.6MB/s]\n",
      " 47%|####7     | 382M/812M [00:11<00:11, 38.0MB/s]\n",
      " 48%|####7     | 386M/812M [00:11<00:12, 35.7MB/s]\n",
      " 48%|####8     | 390M/812M [00:11<00:11, 37.0MB/s]\n",
      " 49%|####8     | 394M/812M [00:12<00:11, 37.4MB/s]\n",
      " 49%|####9     | 398M/812M [00:12<00:11, 37.7MB/s]\n",
      " 49%|####9     | 402M/812M [00:12<00:11, 37.4MB/s]\n",
      " 50%|####9     | 406M/812M [00:12<00:12, 35.3MB/s]\n",
      " 51%|#####     | 411M/812M [00:12<00:10, 39.5MB/s]\n",
      " 51%|#####1    | 415M/812M [00:12<00:10, 39.9MB/s]\n",
      " 52%|#####1    | 419M/812M [00:12<00:11, 36.0MB/s]\n",
      " 52%|#####2    | 423M/812M [00:12<00:10, 37.2MB/s]\n",
      " 53%|#####2    | 427M/812M [00:12<00:10, 38.1MB/s]\n",
      " 53%|#####3    | 431M/812M [00:13<00:10, 37.8MB/s]\n",
      " 54%|#####3    | 435M/812M [00:13<00:10, 37.5MB/s]\n",
      " 54%|#####4    | 439M/812M [00:13<00:10, 37.3MB/s]\n",
      " 55%|#####4    | 443M/812M [00:13<00:11, 32.8MB/s]\n",
      " 55%|#####5    | 447M/812M [00:13<00:11, 34.0MB/s]\n",
      " 56%|#####5    | 451M/812M [00:13<00:13, 29.0MB/s]\n",
      " 56%|#####6    | 457M/812M [00:13<00:10, 35.7MB/s]\n",
      " 57%|#####6    | 461M/812M [00:14<00:10, 36.1MB/s]\n",
      " 57%|#####7    | 465M/812M [00:14<00:12, 30.2MB/s]\n",
      " 58%|#####7    | 469M/812M [00:14<00:11, 31.8MB/s]\n",
      " 58%|#####8    | 473M/812M [00:14<00:10, 33.2MB/s]\n",
      " 59%|#####8    | 477M/812M [00:14<00:10, 33.4MB/s]\n",
      " 59%|#####9    | 481M/812M [00:14<00:10, 34.3MB/s]\n",
      " 60%|#####9    | 485M/812M [00:14<00:09, 35.2MB/s]\n",
      " 60%|######    | 489M/812M [00:14<00:09, 35.7MB/s]\n",
      " 61%|######    | 493M/812M [00:15<00:09, 36.1MB/s]\n",
      " 61%|######1   | 497M/812M [00:15<00:09, 33.7MB/s]\n",
      " 62%|######1   | 502M/812M [00:15<00:08, 37.2MB/s]\n",
      " 62%|######2   | 506M/812M [00:15<00:09, 35.4MB/s]\n",
      " 63%|######2   | 510M/812M [00:15<00:10, 29.1MB/s]\n",
      " 64%|######3   | 516M/812M [00:15<00:08, 35.5MB/s]\n",
      " 64%|######4   | 520M/812M [00:15<00:08, 35.9MB/s]\n",
      " 65%|######4   | 524M/812M [00:15<00:08, 34.6MB/s]\n",
      " 65%|######5   | 529M/812M [00:16<00:08, 36.1MB/s]\n",
      " 66%|######5   | 533M/812M [00:16<00:08, 36.3MB/s]\n",
      " 66%|######6   | 537M/812M [00:16<00:08, 35.3MB/s]\n",
      " 67%|######6   | 541M/812M [00:16<00:08, 32.5MB/s]\n",
      " 67%|######7   | 545M/812M [00:16<00:08, 32.0MB/s]\n",
      " 68%|######7   | 549M/812M [00:16<00:08, 30.8MB/s]\n",
      " 68%|######8   | 556M/812M [00:16<00:06, 40.4MB/s]\n",
      " 69%|######9   | 562M/812M [00:17<00:06, 43.0MB/s]\n",
      " 70%|######9   | 567M/812M [00:17<00:06, 40.9MB/s]\n",
      " 70%|#######   | 572M/812M [00:17<00:06, 41.5MB/s]\n",
      " 71%|#######1  | 577M/812M [00:17<00:06, 39.1MB/s]\n",
      " 72%|#######1  | 581M/812M [00:17<00:06, 37.6MB/s]\n",
      " 72%|#######2  | 585M/812M [00:17<00:06, 38.2MB/s]\n",
      " 73%|#######2  | 589M/812M [00:17<00:06, 38.9MB/s]\n",
      " 73%|#######3  | 593M/812M [00:17<00:05, 38.3MB/s]\n",
      " 74%|#######3  | 597M/812M [00:18<00:05, 38.0MB/s]\n",
      " 74%|#######4  | 601M/812M [00:18<00:05, 38.7MB/s]\n",
      " 74%|#######4  | 605M/812M [00:18<00:05, 39.1MB/s]\n",
      " 75%|#######4  | 609M/812M [00:18<00:05, 38.6MB/s]\n",
      " 75%|#######5  | 613M/812M [00:18<00:05, 36.8MB/s]\n",
      " 76%|#######5  | 617M/812M [00:18<00:05, 37.7MB/s]\n",
      " 76%|#######6  | 621M/812M [00:18<00:05, 38.0MB/s]\n",
      " 77%|#######6  | 625M/812M [00:18<00:05, 36.8MB/s]\n",
      " 77%|#######7  | 629M/812M [00:18<00:05, 36.8MB/s]\n",
      " 78%|#######7  | 633M/812M [00:19<00:04, 37.8MB/s]\n",
      " 78%|#######8  | 637M/812M [00:19<00:04, 38.7MB/s]\n",
      " 79%|#######8  | 641M/812M [00:19<00:04, 38.2MB/s]\n",
      " 79%|#######9  | 645M/812M [00:19<00:04, 36.9MB/s]\n",
      " 80%|########  | 650M/812M [00:19<00:04, 38.6MB/s]\n",
      " 81%|########  | 654M/812M [00:19<00:04, 37.9MB/s]\n",
      " 81%|########1 | 658M/812M [00:19<00:04, 38.7MB/s]\n",
      " 82%|########1 | 662M/812M [00:19<00:04, 37.8MB/s]\n",
      " 82%|########2 | 666M/812M [00:19<00:04, 32.6MB/s]\n",
      " 83%|########2 | 672M/812M [00:20<00:03, 39.3MB/s]\n",
      " 83%|########3 | 676M/812M [00:20<00:03, 38.5MB/s]\n",
      " 84%|########3 | 680M/812M [00:20<00:03, 38.2MB/s]\n",
      " 84%|########4 | 684M/812M [00:20<00:03, 37.8MB/s]\n",
      " 85%|########4 | 688M/812M [00:20<00:03, 37.5MB/s]\n",
      " 85%|########5 | 692M/812M [00:20<00:03, 32.1MB/s]\n",
      " 86%|########6 | 699M/812M [00:20<00:02, 39.8MB/s]\n",
      " 87%|########6 | 703M/812M [00:20<00:02, 39.0MB/s]\n",
      " 87%|########7 | 707M/812M [00:21<00:02, 38.4MB/s]\n",
      " 88%|########7 | 712M/812M [00:21<00:02, 38.7MB/s]\n",
      " 88%|########8 | 716M/812M [00:21<00:02, 39.1MB/s]\n",
      " 89%|########8 | 720M/812M [00:21<00:02, 38.5MB/s]\n",
      " 89%|########9 | 724M/812M [00:21<00:02, 38.0MB/s]\n",
      " 90%|########9 | 728M/812M [00:21<00:02, 37.6MB/s]\n",
      " 90%|######### | 732M/812M [00:21<00:02, 37.5MB/s]\n",
      " 91%|######### | 736M/812M [00:21<00:02, 38.4MB/s]\n",
      " 91%|#########1| 740M/812M [00:21<00:01, 39.0MB/s]\n",
      " 92%|#########1| 744M/812M [00:22<00:01, 37.4MB/s]\n",
      " 92%|#########2| 748M/812M [00:22<00:01, 36.4MB/s]\n",
      " 93%|#########2| 752M/812M [00:22<00:01, 34.8MB/s]\n",
      " 93%|#########3| 756M/812M [00:22<00:01, 36.4MB/s]\n",
      " 94%|#########3| 760M/812M [00:22<00:01, 37.4MB/s]\n",
      " 94%|#########4| 764M/812M [00:22<00:01, 29.9MB/s]\n",
      " 95%|#########4| 768M/812M [00:22<00:01, 28.5MB/s]\n",
      " 95%|#########5| 772M/812M [00:23<00:01, 30.6MB/s]\n",
      " 96%|#########5| 776M/812M [00:23<00:01, 33.1MB/s]\n",
      " 96%|#########6| 780M/812M [00:23<00:01, 32.3MB/s]\n",
      " 97%|#########6| 785M/812M [00:23<00:00, 29.8MB/s]\n",
      " 98%|#########7| 792M/812M [00:23<00:00, 39.2MB/s]\n",
      " 98%|#########8| 797M/812M [00:23<00:00, 40.1MB/s]\n",
      " 99%|#########8| 802M/812M [00:23<00:00, 38.1MB/s]\n",
      " 99%|#########9| 806M/812M [00:23<00:00, 37.9MB/s]\n",
      "100%|#########9| 810M/812M [00:24<00:00, 37.7MB/s]\n",
      "100%|##########| 812M/812M [00:24<00:00, 35.3MB/s]\n"
     ]
    }
   ],
   "source": [
    "!kaggle competitions download -c dogs-vs-cats-redux-kernels-edition -p ../../../tmp/kaggle/dogs-vs-cats"
   ],
   "metadata": {
    "collapsed": false,
    "ExecuteTime": {
     "end_time": "2023-07-14T15:18:43.946044400Z",
     "start_time": "2023-07-14T15:18:18.084758900Z"
    }
   }
  },
  {
   "cell_type": "code",
   "execution_count": 11,
   "outputs": [
    {
     "name": "stderr",
     "output_type": "stream",
     "text": [
      "'unzip' is not recognized as an internal or external command,\n",
      "operable program or batch file.\n"
     ]
    }
   ],
   "source": [
    "# !unzip /tmp/kaggle/dogs-vs-cats/dogs-vs-cats-redux-kernels-edition.zip -d /tmp/kaggle/dogs-vs-cats\n",
    "# !unzip /tmp/kaggle/dogs-vs-cats/train.zip -d /tmp/kaggle/dogs-vs-cats\n",
    "# !unzip /tmp/kaggle/dogs-vs-cats/test.zip -d /tmp/kaggle/dogs-vs-cats"
   ],
   "metadata": {
    "collapsed": false,
    "ExecuteTime": {
     "end_time": "2023-07-14T15:19:14.693652500Z",
     "start_time": "2023-07-14T15:19:14.601283600Z"
    }
   }
  },
  {
   "cell_type": "markdown",
   "id": "ffcd9e7e",
   "metadata": {
    "id": "bLTQd84RUs1j"
   },
   "source": [
    "Download the dataset from its original source by running the cell below. \n",
    "\n",
    "Note that the `zip` file that contains the images is unzipped under the `/tmp` directory."
   ]
  },
  {
   "cell_type": "code",
   "execution_count": 12,
   "id": "c881d8ff",
   "metadata": {
    "id": "3sd9dQWa23aj",
    "lines_to_next_cell": 2,
    "tags": [],
    "ExecuteTime": {
     "end_time": "2023-07-14T15:22:27.456117800Z",
     "start_time": "2023-07-14T15:22:27.440481900Z"
    }
   },
   "outputs": [],
   "source": [
    "# # If the URL doesn't work, visit https://www.microsoft.com/en-us/download/confirmation.aspx?id=54765\n",
    "# # And right click on the 'Download Manually' link to get a new URL to the dataset\n",
    "#\n",
    "# # Note: This is a very large dataset and will take some time to download\n",
    "#\n",
    "# !wget --no-check-certificate \\\n",
    "#     \"https://download.microsoft.com/download/3/E/1/3E1C3F21-ECDB-4869-8368-6DEBA77B919F/kagglecatsanddogs_5340.zip\" \\\n",
    "#     -O \"../../../tmp/cats-and-dogs.zip\"\n",
    "#\n",
    "# local_zip = f'{tmp_path}/cats-and-dogs.zip'\n",
    "# zip_ref = zipfile.ZipFile(local_zip, 'r')\n",
    "# zip_ref.extractall(f'{tmp_path}')\n",
    "# zip_ref.close()"
   ]
  },
  {
   "cell_type": "markdown",
   "id": "e3094745",
   "metadata": {
    "id": "e_HsUV9WVJHL"
   },
   "source": [
    "Now the images are stored within the `/tmp/PetImages` directory. There is a subdirectory for each class, so one for dogs and one for cats."
   ]
  },
  {
   "cell_type": "code",
   "execution_count": 3,
   "id": "bc3a9fa5",
   "metadata": {
    "id": "DM851ZmN28J3",
    "tags": [
     "graded"
    ],
    "ExecuteTime": {
     "end_time": "2023-07-14T13:04:49.288571Z",
     "start_time": "2023-07-14T13:04:49.153419900Z"
    }
   },
   "outputs": [
    {
     "name": "stdout",
     "output_type": "stream",
     "text": [
      "There are 12501 images of dogs.\n",
      "There are 12501 images of cats.\n"
     ]
    },
    {
     "name": "stderr",
     "output_type": "stream",
     "text": [
      "FIND: Invalid switch\n"
     ]
    }
   ],
   "source": [
    "# # grader-required-cell\n",
    "#\n",
    "# source_path = f'{tmp_path}/PetImages'\n",
    "#\n",
    "# source_path_dogs = os.path.join(source_path, 'Dog')\n",
    "# source_path_cats = os.path.join(source_path, 'Cat')\n",
    "#\n",
    "# # Deletes all non-image files (there are two .db files bundled into the dataset)\n",
    "# !find/tmp/PetImages/ -type f ! -name \"*.jpg\" -exec rm {} +\n",
    "#\n",
    "# # os.listdir returns a list containing all files under the given path\n",
    "# print(f\"There are {len(os.listdir(source_path_dogs))} images of dogs.\")\n",
    "# print(f\"There are {len(os.listdir(source_path_cats))} images of cats.\")"
   ]
  },
  {
   "cell_type": "markdown",
   "id": "f98b9905",
   "metadata": {
    "id": "G7dI86rmRGmC"
   },
   "source": [
    "**Expected Output:**\n",
    "\n",
    "```\n",
    "There are 12500 images of dogs.\n",
    "There are 12500 images of cats.\n",
    "```"
   ]
  },
  {
   "cell_type": "markdown",
   "id": "7e7e2d79",
   "metadata": {
    "id": "iFbMliudNIjW"
   },
   "source": [
    "You will need a directory for cats-v-dogs, and subdirectories for training\n",
    "and validation. These in turn will need subdirectories for 'cats' and 'dogs'. To accomplish this, complete the `create_train_val_dirs` below:"
   ]
  },
  {
   "cell_type": "code",
   "execution_count": 13,
   "id": "52ef5808",
   "metadata": {
    "cellView": "code",
    "id": "F-QkLjxpmyK2",
    "tags": [
     "graded"
    ],
    "ExecuteTime": {
     "end_time": "2023-07-14T16:00:26.139426600Z",
     "start_time": "2023-07-14T16:00:26.111264300Z"
    }
   },
   "outputs": [],
   "source": [
    "# grader-required-cell\n",
    "\n",
    "tmp_path = '../../../tmp'\n",
    "\n",
    "# Define root directory\n",
    "root_dir = f'{tmp_path}/kaggle/dogs-vs-cats/processed'\n",
    "\n",
    "# Empty directory to prevent FileExistsError is the function is run several times\n",
    "if os.path.exists(root_dir):\n",
    "    shutil.rmtree(root_dir)\n",
    "\n",
    "\n",
    "# GRADED FUNCTION: create_train_val_dirs\n",
    "def create_train_val_dirs(root_path):\n",
    "    \"\"\"\n",
    "    Creates directories for the train and test sets\n",
    "\n",
    "    Args:\n",
    "      root_path (string) - the base directory path to create subdirectories from\n",
    "\n",
    "    Returns:\n",
    "      None\n",
    "    \"\"\"\n",
    "    ### START CODE HERE\n",
    "\n",
    "    # HINT:\n",
    "    # Use os.makedirs to create your directories with intermediate subdirectories\n",
    "    # Don't hardcode the paths. Use os.path.join to append the new directories to the root_path parameter\n",
    "\n",
    "    os.makedirs(f\"{root_path}/training/cats\", exist_ok=True)\n",
    "    os.makedirs(f\"{root_path}/training/dogs\", exist_ok=True)\n",
    "    os.makedirs(f\"{root_path}/validation/cats\", exist_ok=True)\n",
    "    os.makedirs(f\"{root_path}/validation/dogs\", exist_ok=True)\n",
    "\n",
    "    ### END CODE HERE\n",
    "\n",
    "\n",
    "try:\n",
    "    create_train_val_dirs(root_path=root_dir)\n",
    "except FileExistsError:\n",
    "    print(\"You should not be seeing this since the upper directory is removed beforehand\")"
   ]
  },
  {
   "cell_type": "code",
   "execution_count": 14,
   "id": "5c43b630",
   "metadata": {
    "id": "5dhtL344OK00",
    "tags": [
     "graded"
    ],
    "ExecuteTime": {
     "end_time": "2023-07-14T16:01:30.215978700Z",
     "start_time": "2023-07-14T16:01:30.180909100Z"
    }
   },
   "outputs": [
    {
     "name": "stdout",
     "output_type": "stream",
     "text": [
      "../../../tmp/kaggle/dogs-vs-cats/processed\\training\n",
      "../../../tmp/kaggle/dogs-vs-cats/processed\\validation\n",
      "../../../tmp/kaggle/dogs-vs-cats/processed\\training\\cats\n",
      "../../../tmp/kaggle/dogs-vs-cats/processed\\training\\dogs\n",
      "../../../tmp/kaggle/dogs-vs-cats/processed\\validation\\cats\n",
      "../../../tmp/kaggle/dogs-vs-cats/processed\\validation\\dogs\n"
     ]
    }
   ],
   "source": [
    "# grader-required-cell\n",
    "\n",
    "# Test your create_train_val_dirs function\n",
    "\n",
    "for rootdir, dirs, files in os.walk(root_dir):\n",
    "    for subdir in dirs:\n",
    "        print(os.path.join(rootdir, subdir))"
   ]
  },
  {
   "cell_type": "markdown",
   "id": "e2009a58",
   "metadata": {
    "id": "D7A0RK3IQsvg"
   },
   "source": [
    "**Expected Output (directory order might vary):**\n",
    "\n",
    "``` txt\n",
    "/tmp/cats-v-dogs/training\n",
    "/tmp/cats-v-dogs/validation\n",
    "/tmp/cats-v-dogs/training/cats\n",
    "/tmp/cats-v-dogs/training/dogs\n",
    "/tmp/cats-v-dogs/validation/cats\n",
    "/tmp/cats-v-dogs/validation/dogs\n",
    "\n",
    "```"
   ]
  },
  {
   "cell_type": "markdown",
   "id": "3f296af6",
   "metadata": {
    "id": "R93T7HdE5txZ"
   },
   "source": [
    "Code the `split_data` function which takes in the following arguments:\n",
    "- SOURCE_DIR: directory containing the files\n",
    "\n",
    "- TRAINING_DIR: directory that a portion of the files will be copied to (will be used for training)\n",
    "- VALIDATION_DIR: directory that a portion of the files will be copied to (will be used for validation)\n",
    "- SPLIT_SIZE: determines the portion of images used for training.\n",
    "\n",
    "The files should be randomized, so that the training set is a random sample of the files, and the validation set is made up of the remaining files.\n",
    "\n",
    "For example, if `SOURCE_DIR` is `PetImages/Cat`, and `SPLIT_SIZE` is .9 then 90% of the images in `PetImages/Cat` will be copied to the `TRAINING_DIR` directory\n",
    "and 10% of the images will be copied to the `VALIDATION_DIR` directory.\n",
    "\n",
    "All images should be checked before the copy, so if they have a zero file length, they will be omitted from the copying process. If this is the case then your function should print out a message such as `\"filename is zero length, so ignoring.\"`. **You should perform this check before the split so that only non-zero images are considered when doing the actual split.**\n",
    "\n",
    "\n",
    "Hints:\n",
    "\n",
    "- `os.listdir(DIRECTORY)` returns a list with the contents of that directory.\n",
    "\n",
    "- `os.path.getsize(PATH)` returns the size of the file\n",
    "\n",
    "- `copyfile(source, destination)` copies a file from source to destination\n",
    "\n",
    "- `random.sample(list, len(list))` shuffles a list"
   ]
  },
  {
   "cell_type": "code",
   "execution_count": 26,
   "id": "51d821b1",
   "metadata": {
    "cellView": "code",
    "id": "zvSODo0f9LaU",
    "tags": [
     "graded"
    ],
    "ExecuteTime": {
     "end_time": "2023-07-14T16:30:52.055060700Z",
     "start_time": "2023-07-14T16:30:52.023186400Z"
    }
   },
   "outputs": [],
   "source": [
    "# grader-required-cell\n",
    "\n",
    "# GRADED FUNCTION: split_data\n",
    "def split_data(SOURCE_DIR, FILENAME_GLOB_PATTERN, TRAINING_DIR, VALIDATION_DIR, SPLIT_SIZE):\n",
    "    \"\"\"\n",
    "    Splits the data into train and test sets\n",
    "\n",
    "    Args:\n",
    "      SOURCE_DIR (string): directory path containing the images\n",
    "      TRAINING_DIR (string): directory path to be used for training\n",
    "      VALIDATION_DIR (string): directory path to be used for validation\n",
    "      SPLIT_SIZE (float): proportion of the dataset to be used for training\n",
    "\n",
    "    Returns:\n",
    "      None\n",
    "    \"\"\"\n",
    "\n",
    "    ### START CODE HERE\n",
    "    from pathlib import Path\n",
    "    filenames = [os.path.basename(p) for p in Path(SOURCE_DIR).glob(FILENAME_GLOB_PATTERN)]\n",
    "    # filenames = os.listdir(SOURCE_DIR)\n",
    "    for f in [f for f in filenames if os.path.getsize(f\"{SOURCE_DIR}/{f}\") == 0]:\n",
    "        print(f\"{f} is zero length, so ignoring.\")\n",
    "    filenames = [f for f in filenames if os.path.getsize(f\"{SOURCE_DIR}/{f}\") > 0]\n",
    "    filenames = random.sample(filenames, len(filenames))\n",
    "    training_file_count = int(len(filenames) * SPLIT_SIZE)\n",
    "    validation_file_count = len(filenames) - training_file_count\n",
    "    for f in filenames[:training_file_count]:\n",
    "        shutil.copyfile(f\"{SOURCE_DIR}/{f}\", f\"{TRAINING_DIR}/{f}\")\n",
    "    for f in filenames[:validation_file_count]:\n",
    "        shutil.copyfile(f\"{SOURCE_DIR}/{f}\", f\"{VALIDATION_DIR}/{f}\")\n",
    "    ### END CODE HERE"
   ]
  },
  {
   "cell_type": "code",
   "execution_count": 27,
   "id": "e5a316b6",
   "metadata": {
    "id": "FlIdoUeX9S-9",
    "tags": [
     "graded"
    ],
    "ExecuteTime": {
     "end_time": "2023-07-14T16:31:25.805232300Z",
     "start_time": "2023-07-14T16:30:52.342487200Z"
    }
   },
   "outputs": [
    {
     "name": "stdout",
     "output_type": "stream",
     "text": [
      "cat.0.jpg\n",
      "dog.0.jpg\n",
      "There are 11250 images of cats for training\n",
      "There are 11250 images of dogs for training\n",
      "There are 1250 images of cats for validation\n",
      "There are 1250 images of dogs for validation\n"
     ]
    }
   ],
   "source": [
    "# grader-required-cell\n",
    "\n",
    "# Test your split_data function\n",
    "\n",
    "# Define paths\n",
    "# CAT_SOURCE_DIR = f\"{tmp_path}/PetImages/Cat/\"\n",
    "# DOG_SOURCE_DIR = f\"{tmp_path}/PetImages/Dog/\"\n",
    "SOURCE_DIR = f\"{tmp_path}/kaggle/dogs-vs-cats/train/\"\n",
    "\n",
    "# TRAINING_DIR = f\"{tmp_path}/cats-v-dogs/training/\"\n",
    "# VALIDATION_DIR = f\"{tmp_path}/cats-v-dogs/validation/\"\n",
    "TRAINING_DIR = f\"{tmp_path}/kaggle/dogs-vs-cats/processed/training/\"\n",
    "VALIDATION_DIR = f\"{tmp_path}/kaggle/dogs-vs-cats/processed/validation/\"\n",
    "\n",
    "TRAINING_CATS_DIR = os.path.join(TRAINING_DIR, \"cats/\")\n",
    "VALIDATION_CATS_DIR = os.path.join(VALIDATION_DIR, \"cats/\")\n",
    "\n",
    "TRAINING_DOGS_DIR = os.path.join(TRAINING_DIR, \"dogs/\")\n",
    "VALIDATION_DOGS_DIR = os.path.join(VALIDATION_DIR, \"dogs/\")\n",
    "\n",
    "# Empty directories in case you run this cell multiple times\n",
    "if len(os.listdir(TRAINING_CATS_DIR)) > 0:\n",
    "    for file in os.scandir(TRAINING_CATS_DIR):\n",
    "        os.remove(file.path)\n",
    "if len(os.listdir(TRAINING_DOGS_DIR)) > 0:\n",
    "    for file in os.scandir(TRAINING_DOGS_DIR):\n",
    "        os.remove(file.path)\n",
    "if len(os.listdir(VALIDATION_CATS_DIR)) > 0:\n",
    "    for file in os.scandir(VALIDATION_CATS_DIR):\n",
    "        os.remove(file.path)\n",
    "if len(os.listdir(VALIDATION_DOGS_DIR)) > 0:\n",
    "    for file in os.scandir(VALIDATION_DOGS_DIR):\n",
    "        os.remove(file.path)\n",
    "\n",
    "# Define proportion of images used for training\n",
    "split_size = .9\n",
    "\n",
    "# Run the function\n",
    "# NOTE: Messages about zero length images should be printed out\n",
    "# split_data(CAT_SOURCE_DIR, TRAINING_CATS_DIR, VALIDATION_CATS_DIR, split_size)\n",
    "# split_data(DOG_SOURCE_DIR, TRAINING_DOGS_DIR, VALIDATION_DOGS_DIR, split_size)\n",
    "split_data(SOURCE_DIR, \"cat.*.jpg\", TRAINING_CATS_DIR, VALIDATION_CATS_DIR, split_size)\n",
    "split_data(SOURCE_DIR, \"dog.*.jpg\", TRAINING_DOGS_DIR, VALIDATION_DOGS_DIR, split_size)\n",
    "\n",
    "# Check that the number of images matches the expected output\n",
    "\n",
    "# Your function should perform copies rather than moving images so original directories should contain unchanged images\n",
    "# print(f\"\\n\\nOriginal cat's directory has {len(os.listdir(CAT_SOURCE_DIR))} images\")\n",
    "# print(f\"Original dog's directory has {len(os.listdir(DOG_SOURCE_DIR))} images\\n\")\n",
    "\n",
    "# Training and validation splits\n",
    "print(f\"There are {len(os.listdir(TRAINING_CATS_DIR))} images of cats for training\")\n",
    "print(f\"There are {len(os.listdir(TRAINING_DOGS_DIR))} images of dogs for training\")\n",
    "print(f\"There are {len(os.listdir(VALIDATION_CATS_DIR))} images of cats for validation\")\n",
    "print(f\"There are {len(os.listdir(VALIDATION_DOGS_DIR))} images of dogs for validation\")"
   ]
  },
  {
   "cell_type": "markdown",
   "id": "866801c2",
   "metadata": {
    "id": "hvskJNOFVSaz"
   },
   "source": [
    "**Expected Output:**\n",
    "\n",
    "```\n",
    "666.jpg is zero length, so ignoring.\n",
    "11702.jpg is zero length, so ignoring.\n",
    "\n",
    "\n",
    "Original cat's directory has 12500 images\n",
    "Original dog's directory has 12500 images\n",
    "\n",
    "There are 11249 images of cats for training\n",
    "There are 11249 images of dogs for training\n",
    "There are 1250 images of cats for validation\n",
    "There are 1250 images of dogs for validation\n",
    "```"
   ]
  },
  {
   "cell_type": "markdown",
   "id": "0848b4d7",
   "metadata": {
    "id": "Zil4QmOD_mXF"
   },
   "source": [
    "Now that you have successfully organized the data in a way that can be easily fed to Keras' `ImageDataGenerator`, it is time for you to code the generators that will yield batches of images, both for training and validation. For this, complete the `train_val_generators` function below.\n",
    "\n",
    "Something important to note is that the images in this dataset come in a variety of resolutions. Luckily, the `flow_from_directory` method allows you to standarize this by defining a tuple called `target_size` that will be used to convert each image to this target resolution. **For this exercise, use a `target_size` of (150, 150)**.\n",
    "\n",
    "**Hint:** \n",
    "\n",
    "Don't use data augmentation by setting extra parameters when you instantiate the `ImageDataGenerator` class. This will make the training of your model to take longer to reach the necessary accuracy threshold to pass this assignment and this topic will be covered in the next week."
   ]
  },
  {
   "cell_type": "code",
   "execution_count": 30,
   "id": "072bb609",
   "metadata": {
    "cellView": "code",
    "id": "fQrZfVgz4j2g",
    "tags": [
     "graded"
    ],
    "ExecuteTime": {
     "end_time": "2023-07-14T16:35:13.453262300Z",
     "start_time": "2023-07-14T16:35:13.421716100Z"
    }
   },
   "outputs": [],
   "source": [
    "# grader-required-cell\n",
    "\n",
    "# GRADED FUNCTION: train_val_generators\n",
    "def train_val_generators(TRAINING_DIR, VALIDATION_DIR):\n",
    "    \"\"\"\n",
    "    Creates the training and validation data generators\n",
    "\n",
    "    Args:\n",
    "      TRAINING_DIR (string): directory path containing the training images\n",
    "      VALIDATION_DIR (string): directory path containing the testing/validation images\n",
    "\n",
    "    Returns:\n",
    "      train_generator, validation_generator - tuple containing the generators\n",
    "    \"\"\"\n",
    "    ### START CODE HERE\n",
    "\n",
    "    # Instantiate the ImageDataGenerator class (don't forget to set the rescale argument)\n",
    "    train_datagen = tf.keras.preprocessing.image.ImageDataGenerator(rescale=1 / 255.)\n",
    "\n",
    "    # Pass in the appropriate arguments to the flow_from_directory method\n",
    "    train_generator = train_datagen.flow_from_directory(directory=TRAINING_DIR,\n",
    "                                                        batch_size=32,\n",
    "                                                        class_mode='binary',\n",
    "                                                        target_size=(150, 150))\n",
    "\n",
    "    # Instantiate the ImageDataGenerator class (don't forget to set the rescale argument)\n",
    "    validation_datagen = tf.keras.preprocessing.image.ImageDataGenerator(rescale=1 / 255.)\n",
    "\n",
    "    # Pass in the appropriate arguments to the flow_from_directory method\n",
    "    validation_generator = validation_datagen.flow_from_directory(directory=VALIDATION_DIR,\n",
    "                                                                  batch_size=32,\n",
    "                                                                  class_mode='binary',\n",
    "                                                                  target_size=(150, 150))\n",
    "    ### END CODE HERE\n",
    "    return train_generator, validation_generator"
   ]
  },
  {
   "cell_type": "code",
   "execution_count": 31,
   "id": "642806f1",
   "metadata": {
    "id": "qM7FxrjGiobD",
    "tags": [
     "graded"
    ],
    "ExecuteTime": {
     "end_time": "2023-07-14T16:35:22.749177200Z",
     "start_time": "2023-07-14T16:35:21.060298300Z"
    }
   },
   "outputs": [
    {
     "name": "stdout",
     "output_type": "stream",
     "text": [
      "Found 22500 images belonging to 2 classes.\n",
      "Found 2500 images belonging to 2 classes.\n"
     ]
    }
   ],
   "source": [
    "# grader-required-cell\n",
    "\n",
    "# Test your generators\n",
    "train_generator, validation_generator = train_val_generators(TRAINING_DIR, VALIDATION_DIR)"
   ]
  },
  {
   "cell_type": "markdown",
   "id": "734f5056",
   "metadata": {
    "id": "tiPNmSfZjHwJ"
   },
   "source": [
    "**Expected Output:**\n",
    "\n",
    "```\n",
    "Found 22498 images belonging to 2 classes.\n",
    "Found 2500 images belonging to 2 classes.\n",
    "```\n"
   ]
  },
  {
   "cell_type": "markdown",
   "id": "89098bc7",
   "metadata": {
    "id": "TI3oEmyQCZoO"
   },
   "source": [
    "One last step before training is to define the architecture of the model that will be trained.\n",
    "\n",
    "Complete the `create_model` function below which should return a Keras' `Sequential` model.\n",
    "\n",
    "Aside from defining the architecture of the model, you should also compile it so make sure to use a `loss` function that is compatible with the `class_mode` you defined in the previous exercise, which should also be compatible with the output of your network. You can tell if they aren't compatible if you get an error during training.\n",
    "\n",
    "**Note that you should use at least 3 convolution layers to achieve the desired performance.**"
   ]
  },
  {
   "cell_type": "code",
   "execution_count": 32,
   "id": "6f375c5d",
   "metadata": {
    "cellView": "code",
    "id": "oDPK8tUB_O9e",
    "lines_to_next_cell": 2,
    "tags": [
     "graded"
    ],
    "ExecuteTime": {
     "end_time": "2023-07-14T16:35:57.621770900Z",
     "start_time": "2023-07-14T16:35:57.603309200Z"
    }
   },
   "outputs": [],
   "source": [
    "# grader-required-cell\n",
    "\n",
    "# GRADED FUNCTION: create_model\n",
    "def create_model():\n",
    "    # DEFINE A KERAS MODEL TO CLASSIFY CATS V DOGS\n",
    "    # USE AT LEAST 3 CONVOLUTION LAYERS\n",
    "\n",
    "    ### START CODE HERE\n",
    "\n",
    "    from keras import layers\n",
    "\n",
    "    model = tf.keras.models.Sequential([\n",
    "        layers.Conv2D(16, (3, 3), activation=\"relu\"),\n",
    "        layers.MaxPool2D((2, 2)),\n",
    "        layers.Conv2D(32, (3, 3), activation=\"relu\"),\n",
    "        layers.MaxPool2D((2, 2)),\n",
    "        layers.Conv2D(64, (3, 3), activation=\"relu\"),\n",
    "        layers.MaxPool2D((2, 2)),\n",
    "        layers.Flatten(),\n",
    "        layers.Dense(512, activation='relu'),\n",
    "        layers.Dense(1, activation='sigmoid')\n",
    "    ])\n",
    "\n",
    "    model.compile(optimizer='adam',\n",
    "                  loss='binary_crossentropy',\n",
    "                  metrics=['accuracy'])\n",
    "\n",
    "    ### END CODE HERE\n",
    "\n",
    "    return model"
   ]
  },
  {
   "cell_type": "markdown",
   "id": "991de70d",
   "metadata": {
    "id": "SMFNJZmTCZv6"
   },
   "source": [
    "Now it is time to train your model!\n",
    "\n",
    "**Note:** You can ignore the `UserWarning: Possibly corrupt EXIF data.` warnings."
   ]
  },
  {
   "cell_type": "code",
   "execution_count": 33,
   "id": "fedfe6d0",
   "metadata": {
    "id": "5qE1G6JB4fMn",
    "tags": [],
    "ExecuteTime": {
     "end_time": "2023-07-14T16:37:54.419799800Z",
     "start_time": "2023-07-14T16:36:05.026833800Z"
    }
   },
   "outputs": [
    {
     "name": "stdout",
     "output_type": "stream",
     "text": [
      "Epoch 1/15\n",
      "266/704 [==========>...................] - ETA: 2:54 - loss: 0.6667 - accuracy: 0.6047"
     ]
    },
    {
     "ename": "KeyboardInterrupt",
     "evalue": "",
     "output_type": "error",
     "traceback": [
      "\u001B[1;31m---------------------------------------------------------------------------\u001B[0m",
      "\u001B[1;31mKeyboardInterrupt\u001B[0m                         Traceback (most recent call last)",
      "Cell \u001B[1;32mIn[33], line 6\u001B[0m\n\u001B[0;32m      2\u001B[0m model \u001B[38;5;241m=\u001B[39m create_model()\n\u001B[0;32m      4\u001B[0m \u001B[38;5;66;03m# Train the model\u001B[39;00m\n\u001B[0;32m      5\u001B[0m \u001B[38;5;66;03m# Note that this may take some time.\u001B[39;00m\n\u001B[1;32m----> 6\u001B[0m history \u001B[38;5;241m=\u001B[39m \u001B[43mmodel\u001B[49m\u001B[38;5;241;43m.\u001B[39;49m\u001B[43mfit\u001B[49m\u001B[43m(\u001B[49m\u001B[43mtrain_generator\u001B[49m\u001B[43m,\u001B[49m\n\u001B[0;32m      7\u001B[0m \u001B[43m                    \u001B[49m\u001B[43mepochs\u001B[49m\u001B[38;5;241;43m=\u001B[39;49m\u001B[38;5;241;43m15\u001B[39;49m\u001B[43m,\u001B[49m\n\u001B[0;32m      8\u001B[0m \u001B[43m                    \u001B[49m\u001B[43mverbose\u001B[49m\u001B[38;5;241;43m=\u001B[39;49m\u001B[38;5;241;43m1\u001B[39;49m\u001B[43m,\u001B[49m\n\u001B[0;32m      9\u001B[0m \u001B[43m                    \u001B[49m\u001B[43mvalidation_data\u001B[49m\u001B[38;5;241;43m=\u001B[39;49m\u001B[43mvalidation_generator\u001B[49m\u001B[43m)\u001B[49m\n",
      "File \u001B[1;32mC:\\a\\tf\\tensorflow-1-public\\venv\\Lib\\site-packages\\keras\\src\\utils\\traceback_utils.py:65\u001B[0m, in \u001B[0;36mfilter_traceback.<locals>.error_handler\u001B[1;34m(*args, **kwargs)\u001B[0m\n\u001B[0;32m     63\u001B[0m filtered_tb \u001B[38;5;241m=\u001B[39m \u001B[38;5;28;01mNone\u001B[39;00m\n\u001B[0;32m     64\u001B[0m \u001B[38;5;28;01mtry\u001B[39;00m:\n\u001B[1;32m---> 65\u001B[0m     \u001B[38;5;28;01mreturn\u001B[39;00m \u001B[43mfn\u001B[49m\u001B[43m(\u001B[49m\u001B[38;5;241;43m*\u001B[39;49m\u001B[43margs\u001B[49m\u001B[43m,\u001B[49m\u001B[43m \u001B[49m\u001B[38;5;241;43m*\u001B[39;49m\u001B[38;5;241;43m*\u001B[39;49m\u001B[43mkwargs\u001B[49m\u001B[43m)\u001B[49m\n\u001B[0;32m     66\u001B[0m \u001B[38;5;28;01mexcept\u001B[39;00m \u001B[38;5;167;01mException\u001B[39;00m \u001B[38;5;28;01mas\u001B[39;00m e:\n\u001B[0;32m     67\u001B[0m     filtered_tb \u001B[38;5;241m=\u001B[39m _process_traceback_frames(e\u001B[38;5;241m.\u001B[39m__traceback__)\n",
      "File \u001B[1;32mC:\\a\\tf\\tensorflow-1-public\\venv\\Lib\\site-packages\\keras\\src\\engine\\training.py:1742\u001B[0m, in \u001B[0;36mModel.fit\u001B[1;34m(self, x, y, batch_size, epochs, verbose, callbacks, validation_split, validation_data, shuffle, class_weight, sample_weight, initial_epoch, steps_per_epoch, validation_steps, validation_batch_size, validation_freq, max_queue_size, workers, use_multiprocessing)\u001B[0m\n\u001B[0;32m   1734\u001B[0m \u001B[38;5;28;01mwith\u001B[39;00m tf\u001B[38;5;241m.\u001B[39mprofiler\u001B[38;5;241m.\u001B[39mexperimental\u001B[38;5;241m.\u001B[39mTrace(\n\u001B[0;32m   1735\u001B[0m     \u001B[38;5;124m\"\u001B[39m\u001B[38;5;124mtrain\u001B[39m\u001B[38;5;124m\"\u001B[39m,\n\u001B[0;32m   1736\u001B[0m     epoch_num\u001B[38;5;241m=\u001B[39mepoch,\n\u001B[1;32m   (...)\u001B[0m\n\u001B[0;32m   1739\u001B[0m     _r\u001B[38;5;241m=\u001B[39m\u001B[38;5;241m1\u001B[39m,\n\u001B[0;32m   1740\u001B[0m ):\n\u001B[0;32m   1741\u001B[0m     callbacks\u001B[38;5;241m.\u001B[39mon_train_batch_begin(step)\n\u001B[1;32m-> 1742\u001B[0m     tmp_logs \u001B[38;5;241m=\u001B[39m \u001B[38;5;28;43mself\u001B[39;49m\u001B[38;5;241;43m.\u001B[39;49m\u001B[43mtrain_function\u001B[49m\u001B[43m(\u001B[49m\u001B[43miterator\u001B[49m\u001B[43m)\u001B[49m\n\u001B[0;32m   1743\u001B[0m     \u001B[38;5;28;01mif\u001B[39;00m data_handler\u001B[38;5;241m.\u001B[39mshould_sync:\n\u001B[0;32m   1744\u001B[0m         context\u001B[38;5;241m.\u001B[39masync_wait()\n",
      "File \u001B[1;32mC:\\a\\tf\\tensorflow-1-public\\venv\\Lib\\site-packages\\tensorflow\\python\\util\\traceback_utils.py:150\u001B[0m, in \u001B[0;36mfilter_traceback.<locals>.error_handler\u001B[1;34m(*args, **kwargs)\u001B[0m\n\u001B[0;32m    148\u001B[0m filtered_tb \u001B[38;5;241m=\u001B[39m \u001B[38;5;28;01mNone\u001B[39;00m\n\u001B[0;32m    149\u001B[0m \u001B[38;5;28;01mtry\u001B[39;00m:\n\u001B[1;32m--> 150\u001B[0m   \u001B[38;5;28;01mreturn\u001B[39;00m \u001B[43mfn\u001B[49m\u001B[43m(\u001B[49m\u001B[38;5;241;43m*\u001B[39;49m\u001B[43margs\u001B[49m\u001B[43m,\u001B[49m\u001B[43m \u001B[49m\u001B[38;5;241;43m*\u001B[39;49m\u001B[38;5;241;43m*\u001B[39;49m\u001B[43mkwargs\u001B[49m\u001B[43m)\u001B[49m\n\u001B[0;32m    151\u001B[0m \u001B[38;5;28;01mexcept\u001B[39;00m \u001B[38;5;167;01mException\u001B[39;00m \u001B[38;5;28;01mas\u001B[39;00m e:\n\u001B[0;32m    152\u001B[0m   filtered_tb \u001B[38;5;241m=\u001B[39m _process_traceback_frames(e\u001B[38;5;241m.\u001B[39m__traceback__)\n",
      "File \u001B[1;32mC:\\a\\tf\\tensorflow-1-public\\venv\\Lib\\site-packages\\tensorflow\\python\\eager\\polymorphic_function\\polymorphic_function.py:825\u001B[0m, in \u001B[0;36mFunction.__call__\u001B[1;34m(self, *args, **kwds)\u001B[0m\n\u001B[0;32m    822\u001B[0m compiler \u001B[38;5;241m=\u001B[39m \u001B[38;5;124m\"\u001B[39m\u001B[38;5;124mxla\u001B[39m\u001B[38;5;124m\"\u001B[39m \u001B[38;5;28;01mif\u001B[39;00m \u001B[38;5;28mself\u001B[39m\u001B[38;5;241m.\u001B[39m_jit_compile \u001B[38;5;28;01melse\u001B[39;00m \u001B[38;5;124m\"\u001B[39m\u001B[38;5;124mnonXla\u001B[39m\u001B[38;5;124m\"\u001B[39m\n\u001B[0;32m    824\u001B[0m \u001B[38;5;28;01mwith\u001B[39;00m OptionalXlaContext(\u001B[38;5;28mself\u001B[39m\u001B[38;5;241m.\u001B[39m_jit_compile):\n\u001B[1;32m--> 825\u001B[0m   result \u001B[38;5;241m=\u001B[39m \u001B[38;5;28;43mself\u001B[39;49m\u001B[38;5;241;43m.\u001B[39;49m\u001B[43m_call\u001B[49m\u001B[43m(\u001B[49m\u001B[38;5;241;43m*\u001B[39;49m\u001B[43margs\u001B[49m\u001B[43m,\u001B[49m\u001B[43m \u001B[49m\u001B[38;5;241;43m*\u001B[39;49m\u001B[38;5;241;43m*\u001B[39;49m\u001B[43mkwds\u001B[49m\u001B[43m)\u001B[49m\n\u001B[0;32m    827\u001B[0m new_tracing_count \u001B[38;5;241m=\u001B[39m \u001B[38;5;28mself\u001B[39m\u001B[38;5;241m.\u001B[39mexperimental_get_tracing_count()\n\u001B[0;32m    828\u001B[0m without_tracing \u001B[38;5;241m=\u001B[39m (tracing_count \u001B[38;5;241m==\u001B[39m new_tracing_count)\n",
      "File \u001B[1;32mC:\\a\\tf\\tensorflow-1-public\\venv\\Lib\\site-packages\\tensorflow\\python\\eager\\polymorphic_function\\polymorphic_function.py:857\u001B[0m, in \u001B[0;36mFunction._call\u001B[1;34m(self, *args, **kwds)\u001B[0m\n\u001B[0;32m    854\u001B[0m   \u001B[38;5;28mself\u001B[39m\u001B[38;5;241m.\u001B[39m_lock\u001B[38;5;241m.\u001B[39mrelease()\n\u001B[0;32m    855\u001B[0m   \u001B[38;5;66;03m# In this case we have created variables on the first call, so we run the\u001B[39;00m\n\u001B[0;32m    856\u001B[0m   \u001B[38;5;66;03m# defunned version which is guaranteed to never create variables.\u001B[39;00m\n\u001B[1;32m--> 857\u001B[0m   \u001B[38;5;28;01mreturn\u001B[39;00m \u001B[38;5;28;43mself\u001B[39;49m\u001B[38;5;241;43m.\u001B[39;49m\u001B[43m_no_variable_creation_fn\u001B[49m\u001B[43m(\u001B[49m\u001B[38;5;241;43m*\u001B[39;49m\u001B[43margs\u001B[49m\u001B[43m,\u001B[49m\u001B[43m \u001B[49m\u001B[38;5;241;43m*\u001B[39;49m\u001B[38;5;241;43m*\u001B[39;49m\u001B[43mkwds\u001B[49m\u001B[43m)\u001B[49m  \u001B[38;5;66;03m# pylint: disable=not-callable\u001B[39;00m\n\u001B[0;32m    858\u001B[0m \u001B[38;5;28;01melif\u001B[39;00m \u001B[38;5;28mself\u001B[39m\u001B[38;5;241m.\u001B[39m_variable_creation_fn \u001B[38;5;129;01mis\u001B[39;00m \u001B[38;5;129;01mnot\u001B[39;00m \u001B[38;5;28;01mNone\u001B[39;00m:\n\u001B[0;32m    859\u001B[0m   \u001B[38;5;66;03m# Release the lock early so that multiple threads can perform the call\u001B[39;00m\n\u001B[0;32m    860\u001B[0m   \u001B[38;5;66;03m# in parallel.\u001B[39;00m\n\u001B[0;32m    861\u001B[0m   \u001B[38;5;28mself\u001B[39m\u001B[38;5;241m.\u001B[39m_lock\u001B[38;5;241m.\u001B[39mrelease()\n",
      "File \u001B[1;32mC:\\a\\tf\\tensorflow-1-public\\venv\\Lib\\site-packages\\tensorflow\\python\\eager\\polymorphic_function\\tracing_compiler.py:148\u001B[0m, in \u001B[0;36mTracingCompiler.__call__\u001B[1;34m(self, *args, **kwargs)\u001B[0m\n\u001B[0;32m    145\u001B[0m \u001B[38;5;28;01mwith\u001B[39;00m \u001B[38;5;28mself\u001B[39m\u001B[38;5;241m.\u001B[39m_lock:\n\u001B[0;32m    146\u001B[0m   (concrete_function,\n\u001B[0;32m    147\u001B[0m    filtered_flat_args) \u001B[38;5;241m=\u001B[39m \u001B[38;5;28mself\u001B[39m\u001B[38;5;241m.\u001B[39m_maybe_define_function(args, kwargs)\n\u001B[1;32m--> 148\u001B[0m \u001B[38;5;28;01mreturn\u001B[39;00m \u001B[43mconcrete_function\u001B[49m\u001B[38;5;241;43m.\u001B[39;49m\u001B[43m_call_flat\u001B[49m\u001B[43m(\u001B[49m\n\u001B[0;32m    149\u001B[0m \u001B[43m    \u001B[49m\u001B[43mfiltered_flat_args\u001B[49m\u001B[43m,\u001B[49m\u001B[43m \u001B[49m\u001B[43mcaptured_inputs\u001B[49m\u001B[38;5;241;43m=\u001B[39;49m\u001B[43mconcrete_function\u001B[49m\u001B[38;5;241;43m.\u001B[39;49m\u001B[43mcaptured_inputs\u001B[49m\u001B[43m)\u001B[49m\n",
      "File \u001B[1;32mC:\\a\\tf\\tensorflow-1-public\\venv\\Lib\\site-packages\\tensorflow\\python\\eager\\polymorphic_function\\monomorphic_function.py:1349\u001B[0m, in \u001B[0;36mConcreteFunction._call_flat\u001B[1;34m(self, args, captured_inputs)\u001B[0m\n\u001B[0;32m   1345\u001B[0m possible_gradient_type \u001B[38;5;241m=\u001B[39m gradients_util\u001B[38;5;241m.\u001B[39mPossibleTapeGradientTypes(args)\n\u001B[0;32m   1346\u001B[0m \u001B[38;5;28;01mif\u001B[39;00m (possible_gradient_type \u001B[38;5;241m==\u001B[39m gradients_util\u001B[38;5;241m.\u001B[39mPOSSIBLE_GRADIENT_TYPES_NONE\n\u001B[0;32m   1347\u001B[0m     \u001B[38;5;129;01mand\u001B[39;00m executing_eagerly):\n\u001B[0;32m   1348\u001B[0m   \u001B[38;5;66;03m# No tape is watching; skip to running the function.\u001B[39;00m\n\u001B[1;32m-> 1349\u001B[0m   \u001B[38;5;28;01mreturn\u001B[39;00m \u001B[38;5;28mself\u001B[39m\u001B[38;5;241m.\u001B[39m_build_call_outputs(\u001B[38;5;28;43mself\u001B[39;49m\u001B[38;5;241;43m.\u001B[39;49m\u001B[43m_inference_function\u001B[49m\u001B[43m(\u001B[49m\u001B[38;5;241;43m*\u001B[39;49m\u001B[43margs\u001B[49m\u001B[43m)\u001B[49m)\n\u001B[0;32m   1350\u001B[0m forward_backward \u001B[38;5;241m=\u001B[39m \u001B[38;5;28mself\u001B[39m\u001B[38;5;241m.\u001B[39m_select_forward_and_backward_functions(\n\u001B[0;32m   1351\u001B[0m     args,\n\u001B[0;32m   1352\u001B[0m     possible_gradient_type,\n\u001B[0;32m   1353\u001B[0m     executing_eagerly)\n\u001B[0;32m   1354\u001B[0m forward_function, args_with_tangents \u001B[38;5;241m=\u001B[39m forward_backward\u001B[38;5;241m.\u001B[39mforward()\n",
      "File \u001B[1;32mC:\\a\\tf\\tensorflow-1-public\\venv\\Lib\\site-packages\\tensorflow\\python\\eager\\polymorphic_function\\atomic_function.py:196\u001B[0m, in \u001B[0;36mAtomicFunction.__call__\u001B[1;34m(self, *args)\u001B[0m\n\u001B[0;32m    194\u001B[0m \u001B[38;5;28;01mwith\u001B[39;00m record\u001B[38;5;241m.\u001B[39mstop_recording():\n\u001B[0;32m    195\u001B[0m   \u001B[38;5;28;01mif\u001B[39;00m \u001B[38;5;28mself\u001B[39m\u001B[38;5;241m.\u001B[39m_bound_context\u001B[38;5;241m.\u001B[39mexecuting_eagerly():\n\u001B[1;32m--> 196\u001B[0m     outputs \u001B[38;5;241m=\u001B[39m \u001B[38;5;28;43mself\u001B[39;49m\u001B[38;5;241;43m.\u001B[39;49m\u001B[43m_bound_context\u001B[49m\u001B[38;5;241;43m.\u001B[39;49m\u001B[43mcall_function\u001B[49m\u001B[43m(\u001B[49m\n\u001B[0;32m    197\u001B[0m \u001B[43m        \u001B[49m\u001B[38;5;28;43mself\u001B[39;49m\u001B[38;5;241;43m.\u001B[39;49m\u001B[43mname\u001B[49m\u001B[43m,\u001B[49m\n\u001B[0;32m    198\u001B[0m \u001B[43m        \u001B[49m\u001B[38;5;28;43mlist\u001B[39;49m\u001B[43m(\u001B[49m\u001B[43margs\u001B[49m\u001B[43m)\u001B[49m\u001B[43m,\u001B[49m\n\u001B[0;32m    199\u001B[0m \u001B[43m        \u001B[49m\u001B[38;5;28;43mlen\u001B[39;49m\u001B[43m(\u001B[49m\u001B[38;5;28;43mself\u001B[39;49m\u001B[38;5;241;43m.\u001B[39;49m\u001B[43mfunction_type\u001B[49m\u001B[38;5;241;43m.\u001B[39;49m\u001B[43mflat_outputs\u001B[49m\u001B[43m)\u001B[49m\u001B[43m,\u001B[49m\n\u001B[0;32m    200\u001B[0m \u001B[43m    \u001B[49m\u001B[43m)\u001B[49m\n\u001B[0;32m    201\u001B[0m   \u001B[38;5;28;01melse\u001B[39;00m:\n\u001B[0;32m    202\u001B[0m     outputs \u001B[38;5;241m=\u001B[39m make_call_op_in_graph(\u001B[38;5;28mself\u001B[39m, \u001B[38;5;28mlist\u001B[39m(args))\n",
      "File \u001B[1;32mC:\\a\\tf\\tensorflow-1-public\\venv\\Lib\\site-packages\\tensorflow\\python\\eager\\context.py:1457\u001B[0m, in \u001B[0;36mContext.call_function\u001B[1;34m(self, name, tensor_inputs, num_outputs)\u001B[0m\n\u001B[0;32m   1455\u001B[0m cancellation_context \u001B[38;5;241m=\u001B[39m cancellation\u001B[38;5;241m.\u001B[39mcontext()\n\u001B[0;32m   1456\u001B[0m \u001B[38;5;28;01mif\u001B[39;00m cancellation_context \u001B[38;5;129;01mis\u001B[39;00m \u001B[38;5;28;01mNone\u001B[39;00m:\n\u001B[1;32m-> 1457\u001B[0m   outputs \u001B[38;5;241m=\u001B[39m \u001B[43mexecute\u001B[49m\u001B[38;5;241;43m.\u001B[39;49m\u001B[43mexecute\u001B[49m\u001B[43m(\u001B[49m\n\u001B[0;32m   1458\u001B[0m \u001B[43m      \u001B[49m\u001B[43mname\u001B[49m\u001B[38;5;241;43m.\u001B[39;49m\u001B[43mdecode\u001B[49m\u001B[43m(\u001B[49m\u001B[38;5;124;43m\"\u001B[39;49m\u001B[38;5;124;43mutf-8\u001B[39;49m\u001B[38;5;124;43m\"\u001B[39;49m\u001B[43m)\u001B[49m\u001B[43m,\u001B[49m\n\u001B[0;32m   1459\u001B[0m \u001B[43m      \u001B[49m\u001B[43mnum_outputs\u001B[49m\u001B[38;5;241;43m=\u001B[39;49m\u001B[43mnum_outputs\u001B[49m\u001B[43m,\u001B[49m\n\u001B[0;32m   1460\u001B[0m \u001B[43m      \u001B[49m\u001B[43minputs\u001B[49m\u001B[38;5;241;43m=\u001B[39;49m\u001B[43mtensor_inputs\u001B[49m\u001B[43m,\u001B[49m\n\u001B[0;32m   1461\u001B[0m \u001B[43m      \u001B[49m\u001B[43mattrs\u001B[49m\u001B[38;5;241;43m=\u001B[39;49m\u001B[43mattrs\u001B[49m\u001B[43m,\u001B[49m\n\u001B[0;32m   1462\u001B[0m \u001B[43m      \u001B[49m\u001B[43mctx\u001B[49m\u001B[38;5;241;43m=\u001B[39;49m\u001B[38;5;28;43mself\u001B[39;49m\u001B[43m,\u001B[49m\n\u001B[0;32m   1463\u001B[0m \u001B[43m  \u001B[49m\u001B[43m)\u001B[49m\n\u001B[0;32m   1464\u001B[0m \u001B[38;5;28;01melse\u001B[39;00m:\n\u001B[0;32m   1465\u001B[0m   outputs \u001B[38;5;241m=\u001B[39m execute\u001B[38;5;241m.\u001B[39mexecute_with_cancellation(\n\u001B[0;32m   1466\u001B[0m       name\u001B[38;5;241m.\u001B[39mdecode(\u001B[38;5;124m\"\u001B[39m\u001B[38;5;124mutf-8\u001B[39m\u001B[38;5;124m\"\u001B[39m),\n\u001B[0;32m   1467\u001B[0m       num_outputs\u001B[38;5;241m=\u001B[39mnum_outputs,\n\u001B[1;32m   (...)\u001B[0m\n\u001B[0;32m   1471\u001B[0m       cancellation_manager\u001B[38;5;241m=\u001B[39mcancellation_context,\n\u001B[0;32m   1472\u001B[0m   )\n",
      "File \u001B[1;32mC:\\a\\tf\\tensorflow-1-public\\venv\\Lib\\site-packages\\tensorflow\\python\\eager\\execute.py:53\u001B[0m, in \u001B[0;36mquick_execute\u001B[1;34m(op_name, num_outputs, inputs, attrs, ctx, name)\u001B[0m\n\u001B[0;32m     51\u001B[0m \u001B[38;5;28;01mtry\u001B[39;00m:\n\u001B[0;32m     52\u001B[0m   ctx\u001B[38;5;241m.\u001B[39mensure_initialized()\n\u001B[1;32m---> 53\u001B[0m   tensors \u001B[38;5;241m=\u001B[39m \u001B[43mpywrap_tfe\u001B[49m\u001B[38;5;241;43m.\u001B[39;49m\u001B[43mTFE_Py_Execute\u001B[49m\u001B[43m(\u001B[49m\u001B[43mctx\u001B[49m\u001B[38;5;241;43m.\u001B[39;49m\u001B[43m_handle\u001B[49m\u001B[43m,\u001B[49m\u001B[43m \u001B[49m\u001B[43mdevice_name\u001B[49m\u001B[43m,\u001B[49m\u001B[43m \u001B[49m\u001B[43mop_name\u001B[49m\u001B[43m,\u001B[49m\n\u001B[0;32m     54\u001B[0m \u001B[43m                                      \u001B[49m\u001B[43minputs\u001B[49m\u001B[43m,\u001B[49m\u001B[43m \u001B[49m\u001B[43mattrs\u001B[49m\u001B[43m,\u001B[49m\u001B[43m \u001B[49m\u001B[43mnum_outputs\u001B[49m\u001B[43m)\u001B[49m\n\u001B[0;32m     55\u001B[0m \u001B[38;5;28;01mexcept\u001B[39;00m core\u001B[38;5;241m.\u001B[39m_NotOkStatusException \u001B[38;5;28;01mas\u001B[39;00m e:\n\u001B[0;32m     56\u001B[0m   \u001B[38;5;28;01mif\u001B[39;00m name \u001B[38;5;129;01mis\u001B[39;00m \u001B[38;5;129;01mnot\u001B[39;00m \u001B[38;5;28;01mNone\u001B[39;00m:\n",
      "\u001B[1;31mKeyboardInterrupt\u001B[0m: "
     ]
    }
   ],
   "source": [
    "# Get the untrained model\n",
    "model = create_model()\n",
    "\n",
    "# Train the model\n",
    "# Note that this may take some time.\n",
    "history = model.fit(train_generator,\n",
    "                    epochs=15,\n",
    "                    verbose=1,\n",
    "                    validation_data=validation_generator)"
   ]
  },
  {
   "cell_type": "code",
   "execution_count": 17,
   "outputs": [
    {
     "name": "stdout",
     "output_type": "stream",
     "text": [
      "INFO:tensorflow:Assets written to: ../../../tmp/c2_w1_model\\assets\n"
     ]
    },
    {
     "name": "stderr",
     "output_type": "stream",
     "text": [
      "INFO:tensorflow:Assets written to: ../../../tmp/c2_w1_model\\assets\n"
     ]
    }
   ],
   "source": [
    "model.save(f\"{tmp_path}/c2_w1_model\")\n",
    "\n",
    "from pathlib import Path\n",
    "import zipfile\n",
    "\n",
    "dir_path = Path(f\"{tmp_path}/c2_w1_model\")\n",
    "zip_path = Path(f\"{tmp_path}/c2_w1_model.zip\")\n",
    "\n",
    "with zipfile.ZipFile(zip_path, \"w\", zipfile.ZIP_DEFLATED) as zipf:\n",
    "    for fp in dir_path.glob(\"**/*\"):\n",
    "        zipf.write(fp, arcname=fp.relative_to(dir_path))"
   ],
   "metadata": {
    "collapsed": false,
    "ExecuteTime": {
     "end_time": "2023-07-14T13:38:12.569246100Z",
     "start_time": "2023-07-14T13:38:11.648777800Z"
    }
   }
  },
  {
   "cell_type": "markdown",
   "id": "9a08d2ee",
   "metadata": {
    "id": "VGsaDMc-GMd4"
   },
   "source": [
    "Once training has finished, you can run the following cell to check the training and validation accuracy achieved at the end of each epoch.\n",
    "\n",
    "**To pass this assignment, your model should achieve a training accuracy of at least 95% and a validation accuracy of at least 80%**. If your model didn't achieve these thresholds, try training again with a different model architecture and remember to use at least 3 convolutional layers."
   ]
  },
  {
   "cell_type": "code",
   "execution_count": 34,
   "id": "70658d4d",
   "metadata": {
    "id": "MWZrJN4-65RC",
    "tags": [],
    "ExecuteTime": {
     "end_time": "2023-07-14T16:38:04.988634800Z",
     "start_time": "2023-07-14T16:38:04.936037Z"
    }
   },
   "outputs": [
    {
     "ename": "NameError",
     "evalue": "name 'history' is not defined",
     "output_type": "error",
     "traceback": [
      "\u001B[1;31m---------------------------------------------------------------------------\u001B[0m",
      "\u001B[1;31mNameError\u001B[0m                                 Traceback (most recent call last)",
      "Cell \u001B[1;32mIn[34], line 5\u001B[0m\n\u001B[0;32m      1\u001B[0m \u001B[38;5;66;03m#-----------------------------------------------------------\u001B[39;00m\n\u001B[0;32m      2\u001B[0m \u001B[38;5;66;03m# Retrieve a list of list results on training and test data\u001B[39;00m\n\u001B[0;32m      3\u001B[0m \u001B[38;5;66;03m# sets for each training epoch\u001B[39;00m\n\u001B[0;32m      4\u001B[0m \u001B[38;5;66;03m#-----------------------------------------------------------\u001B[39;00m\n\u001B[1;32m----> 5\u001B[0m acc \u001B[38;5;241m=\u001B[39m \u001B[43mhistory\u001B[49m\u001B[38;5;241m.\u001B[39mhistory[\u001B[38;5;124m'\u001B[39m\u001B[38;5;124maccuracy\u001B[39m\u001B[38;5;124m'\u001B[39m]\n\u001B[0;32m      6\u001B[0m val_acc \u001B[38;5;241m=\u001B[39m history\u001B[38;5;241m.\u001B[39mhistory[\u001B[38;5;124m'\u001B[39m\u001B[38;5;124mval_accuracy\u001B[39m\u001B[38;5;124m'\u001B[39m]\n\u001B[0;32m      7\u001B[0m loss \u001B[38;5;241m=\u001B[39m history\u001B[38;5;241m.\u001B[39mhistory[\u001B[38;5;124m'\u001B[39m\u001B[38;5;124mloss\u001B[39m\u001B[38;5;124m'\u001B[39m]\n",
      "\u001B[1;31mNameError\u001B[0m: name 'history' is not defined"
     ]
    }
   ],
   "source": [
    "#-----------------------------------------------------------\n",
    "# Retrieve a list of list results on training and test data\n",
    "# sets for each training epoch\n",
    "#-----------------------------------------------------------\n",
    "acc = history.history['accuracy']\n",
    "val_acc = history.history['val_accuracy']\n",
    "loss = history.history['loss']\n",
    "val_loss = history.history['val_loss']\n",
    "\n",
    "epochs = range(len(acc))  # Get number of epochs\n",
    "\n",
    "#------------------------------------------------\n",
    "# Plot training and validation accuracy per epoch\n",
    "#------------------------------------------------\n",
    "plt.plot(epochs, acc, 'r', \"Training Accuracy\")\n",
    "plt.plot(epochs, val_acc, 'b', \"Validation Accuracy\")\n",
    "plt.title('Training and validation accuracy')\n",
    "plt.show()\n",
    "print(\"\")\n",
    "\n",
    "#------------------------------------------------\n",
    "# Plot training and validation loss per epoch\n",
    "#------------------------------------------------\n",
    "plt.plot(epochs, loss, 'r', \"Training Loss\")\n",
    "plt.plot(epochs, val_loss, 'b', \"Validation Loss\")\n",
    "plt.show()"
   ]
  },
  {
   "cell_type": "markdown",
   "id": "de6fc5c1",
   "metadata": {
    "id": "NYIaqsN2pav6"
   },
   "source": [
    "You will probably encounter that the model is overfitting, which means that it is doing a great job at classifying the images in the training set but struggles with new data. This is perfectly fine and you will learn how to mitigate this issue in the upcoming week.\n",
    "\n",
    "Before downloading this notebook and closing the assignment, be sure to also download the `history.pkl` file which contains the information of the training history of your model. You can download this file by running the cell below:"
   ]
  },
  {
   "cell_type": "code",
   "execution_count": null,
   "id": "19911c2d",
   "metadata": {
    "id": "yWcrc9nZTsHj",
    "tags": [],
    "ExecuteTime": {
     "start_time": "2023-07-14T13:10:21.411341900Z"
    }
   },
   "outputs": [],
   "source": [
    "def download_history():\n",
    "    import pickle\n",
    "    from google.colab import files\n",
    "\n",
    "    with open('history.pkl', 'wb') as f:\n",
    "        pickle.dump(history.history, f)\n",
    "\n",
    "    files.download('history.pkl')\n",
    "\n",
    "\n",
    "download_history()"
   ]
  },
  {
   "cell_type": "code",
   "execution_count": 73,
   "outputs": [
    {
     "name": "stdout",
     "output_type": "stream",
     "text": [
      "Collecting natsort\n",
      "  Downloading natsort-8.4.0-py3-none-any.whl (38 kB)\n",
      "Installing collected packages: natsort\n",
      "Successfully installed natsort-8.4.0\n"
     ]
    },
    {
     "name": "stderr",
     "output_type": "stream",
     "text": [
      "\n",
      "[notice] A new release of pip available: 22.3.1 -> 23.1.2\n",
      "[notice] To update, run: python.exe -m pip install --upgrade pip\n"
     ]
    }
   ],
   "source": [
    "!pip install natsort"
   ],
   "metadata": {
    "collapsed": false,
    "ExecuteTime": {
     "end_time": "2023-07-14T18:03:29.291679600Z",
     "start_time": "2023-07-14T18:03:23.156182500Z"
    }
   }
  },
  {
   "cell_type": "code",
   "execution_count": 104,
   "outputs": [
    {
     "name": "stdout",
     "output_type": "stream",
     "text": [
      "1/1 [==============================] - 0s 63ms/step\n",
      "[[0.37200803]\n",
      " [0.3375392 ]\n",
      " [0.46720445]\n",
      " [0.5141139 ]\n",
      " [0.17238416]\n",
      " [0.4100995 ]\n",
      " [0.58329594]\n",
      " [0.20749928]\n",
      " [0.28911203]\n",
      " [0.3972561 ]]\n"
     ]
    }
   ],
   "source": [
    "from natsort import natsorted\n",
    "import numpy as np\n",
    "\n",
    "TEST_DIR = f\"{tmp_path}/kaggle/dogs-vs-cats/processed/training/cats\"\n",
    "# test_dataset = tf.keras.utils.image_dataset_from_directory(TEST_DIR,\n",
    "#                                          labels=None,\n",
    "#                                          batch_size=32,\n",
    "#                                          image_size=(150, 150),\n",
    "#                                          shuffle=False).map(lambda image: image/255.)\n",
    "# print(test_dataset)\n",
    "\n",
    "# predictions = []\n",
    "# for fn in natsorted(os.listdir(TEST_DIR))[:10]:\n",
    "#     img = tf.keras.utils.load_img(f\"{TEST_DIR}/{fn}\", target_size=(150, 150))\n",
    "#     img = np.asarray(img)\n",
    "#     img = img / 255.\n",
    "#     img = np.expand_dims(img, 0)\n",
    "#     predictions.append(model.predict(img)[0])\n",
    "#\n",
    "# print(len(predictions))\n",
    "# print(predictions[0])\n",
    "\n",
    "images = []\n",
    "for fn in natsorted(os.listdir(TEST_DIR))[:10]:\n",
    "    img = tf.keras.utils.load_img(f\"{TEST_DIR}/{fn}\", target_size=(150, 150))\n",
    "    img = np.asarray(img)\n",
    "    img = img / 255.\n",
    "    images.append(img)\n",
    "images = np.asarray(images)\n",
    "predictions = model.predict(images, batch_size=32)\n",
    "print(predictions[:10])"
   ],
   "metadata": {
    "collapsed": false,
    "ExecuteTime": {
     "end_time": "2023-07-14T18:42:12.383645100Z",
     "start_time": "2023-07-14T18:42:10.752187Z"
    }
   }
  },
  {
   "cell_type": "code",
   "execution_count": 105,
   "outputs": [
    {
     "data": {
      "text/plain": "   label  id\n3      1   4\n0      0   1\n6      1   7\n7      0   8\n4      0   5\n9      0  10\n1      0   2\n8      0   9\n5      0   6\n2      0   3",
      "text/html": "<div>\n<style scoped>\n    .dataframe tbody tr th:only-of-type {\n        vertical-align: middle;\n    }\n\n    .dataframe tbody tr th {\n        vertical-align: top;\n    }\n\n    .dataframe thead th {\n        text-align: right;\n    }\n</style>\n<table border=\"1\" class=\"dataframe\">\n  <thead>\n    <tr style=\"text-align: right;\">\n      <th></th>\n      <th>label</th>\n      <th>id</th>\n    </tr>\n  </thead>\n  <tbody>\n    <tr>\n      <th>3</th>\n      <td>1</td>\n      <td>4</td>\n    </tr>\n    <tr>\n      <th>0</th>\n      <td>0</td>\n      <td>1</td>\n    </tr>\n    <tr>\n      <th>6</th>\n      <td>1</td>\n      <td>7</td>\n    </tr>\n    <tr>\n      <th>7</th>\n      <td>0</td>\n      <td>8</td>\n    </tr>\n    <tr>\n      <th>4</th>\n      <td>0</td>\n      <td>5</td>\n    </tr>\n    <tr>\n      <th>9</th>\n      <td>0</td>\n      <td>10</td>\n    </tr>\n    <tr>\n      <th>1</th>\n      <td>0</td>\n      <td>2</td>\n    </tr>\n    <tr>\n      <th>8</th>\n      <td>0</td>\n      <td>9</td>\n    </tr>\n    <tr>\n      <th>5</th>\n      <td>0</td>\n      <td>6</td>\n    </tr>\n    <tr>\n      <th>2</th>\n      <td>0</td>\n      <td>3</td>\n    </tr>\n  </tbody>\n</table>\n</div>"
     },
     "execution_count": 105,
     "metadata": {},
     "output_type": "execute_result"
    }
   ],
   "source": [
    "import pandas as pd\n",
    "import numpy as np\n",
    "\n",
    "df = pd.DataFrame(predictions, columns=[\"label\"])\n",
    "df[\"id\"] = df.index + 1\n",
    "df[\"label\"] = np.around(df[\"label\"]).astype(int)\n",
    "df.to_csv(f\"{tmp_path}/kaggle/dogs-vs-cats/result-cats.csv\", columns=[\"id\", \"label\"], index=False)\n",
    "df.sample(10)"
   ],
   "metadata": {
    "collapsed": false,
    "ExecuteTime": {
     "end_time": "2023-07-14T18:42:24.805752700Z",
     "start_time": "2023-07-14T18:42:24.766160Z"
    }
   }
  },
  {
   "cell_type": "markdown",
   "id": "bacfa623",
   "metadata": {},
   "source": [
    "## Download your notebook for grading\n",
    "\n",
    "Along with the `history.pkl` file, you will also need to submit your solution notebook for grading. The following code cells will check if this notebook's grader metadata (i.e. hidden data in the notebook needed for grading) is not modified by your workspace. This will ensure that the autograder can evaluate your code properly. Depending on its output, you will either:\n",
    "\n",
    "* *if the metadata is intact*: Download the current notebook. Click on the File tab on the upper left corner of the screen then click on `Download -> Download .ipynb.` You can name it anything you want as long as it is a valid `.ipynb` (jupyter notebook) file.\n",
    "<br>\n",
    "\n",
    "* *if the metadata is missing*: A new notebook with your solutions will be created on this Colab workspace. It should be downloaded automatically and you can submit that to the grader. "
   ]
  },
  {
   "cell_type": "code",
   "execution_count": null,
   "id": "7f1b1a67",
   "metadata": {},
   "outputs": [],
   "source": [
    "# Download metadata checker\n",
    "!wget -nc https: // storage.googleapis.com/tensorflow-1-public/colab_metadata_checker.py"
   ]
  },
  {
   "cell_type": "code",
   "execution_count": null,
   "id": "b1133af4",
   "metadata": {},
   "outputs": [],
   "source": [
    "import colab_metadata_checker\n",
    "\n",
    "# Please see the output of this cell to see which file you need to submit to the grader\n",
    "colab_metadata_checker.run('C2W1_Assignment_fixed.ipynb')"
   ]
  },
  {
   "cell_type": "markdown",
   "id": "4278bc55",
   "metadata": {},
   "source": [
    "**Please disregard the following note if the notebook metadata is detected**\n",
    "\n",
    "_Note: Just in case the download fails for the second point above, you can also do these steps:_\n",
    "* _Click the Folder icon on the left side of this screen to open the File Manager._\n",
    "* _Click the Folder Refresh icon in the File Manager to see the latest files in the workspace. You should see a file ending with a `_fixed.ipynb`._\n",
    "* _Right-click on that file to save locally and submit it to the grader._"
   ]
  },
  {
   "cell_type": "markdown",
   "id": "c8a5425c",
   "metadata": {
    "id": "joAaZSWWpbOI"
   },
   "source": [
    "**Congratulations on finishing this week's assignment!**\n",
    "\n",
    "You have successfully implemented a convolutional neural network that classifies images of cats and dogs, along with the helper functions needed to pre-process the images!\n",
    "\n",
    "**Keep it up!**"
   ]
  }
 ],
 "metadata": {
  "accelerator": "GPU",
  "kernelspec": {
   "display_name": "Python 3",
   "language": "python",
   "name": "python3"
  },
  "language_info": {
   "codemirror_mode": {
    "name": "ipython",
    "version": 3
   },
   "file_extension": ".py",
   "mimetype": "text/x-python",
   "name": "python",
   "nbconvert_exporter": "python",
   "pygments_lexer": "ipython3",
   "version": "3.7.4"
  }
 },
 "nbformat": 4,
 "nbformat_minor": 5
}
